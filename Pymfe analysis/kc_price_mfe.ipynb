{
 "cells": [
  {
   "cell_type": "code",
   "execution_count": null,
   "id": "756494c9",
   "metadata": {},
   "outputs": [],
   "source": [
    "import pandas as pd\n",
    "from pymfe.mfe import MFE\n",
    "dataset = pd.read_csv('../datasets/kc_house_data.csv',sep=\",\")\n",
    "dataset.head()"
   ]
  },
  {
   "cell_type": "code",
   "execution_count": null,
   "id": "8ee63f34",
   "metadata": {},
   "outputs": [],
   "source": [
    "columns = dataset.columns\n",
    "columns = columns.delete(1)"
   ]
  },
  {
   "cell_type": "code",
   "execution_count": null,
   "id": "949fff90",
   "metadata": {},
   "outputs": [],
   "source": [
    "X=dataset.iloc[:,0:-1].values\n",
    "y=dataset.iloc[:,2].values\n",
    "X"
   ]
  },
  {
   "cell_type": "code",
   "execution_count": null,
   "id": "d31b0351",
   "metadata": {},
   "outputs": [],
   "source": [
    "#osnovne meta-značajke\n",
    "mfe = MFE(groups=[\"general\"])\n",
    "mfe.fit(X)\n",
    "ft = mfe.extract()\n",
    "print(\"\\n\".join(\"{:50} {:30}\".format(x, y) for x, y in zip(ft[0], ft[1])))\n",
    "#broj atributa 20\n",
    "#dominiraju numeričke varijable (diskretne i kontinuirane)\n",
    "#srednje velik skup podataka (21 613 instanci)\n",
    "#postoje outlieri\n",
    "#nema vrijednosti koje nedostaju\n",
    "#regresijski problem"
   ]
  },
  {
   "cell_type": "code",
   "execution_count": null,
   "id": "9423af4d",
   "metadata": {},
   "outputs": [],
   "source": [
    "#statističke meta-značajke\n",
    "mfe = MFE(groups=[\"statistical\"])\n",
    "mfe.fit(X)\n",
    "ft = mfe.extract()\n",
    "print(\"\\n\".join(\"{:50} {:30}\".format(x, y) for x, y in zip(ft[0], ft[1])))"
   ]
  },
  {
   "cell_type": "code",
   "execution_count": null,
   "id": "d225146a",
   "metadata": {},
   "outputs": [],
   "source": [
    "#info-teorijske meta-značajke\n",
    "mfe = MFE(groups=[\"info-theory\"])\n",
    "mfe.fit(X)\n",
    "ft = mfe.extract()\n",
    "print(\"\\n\".join(\"{:50} {:30}\".format(x, y) for x, y in zip(ft[0], ft[1])))"
   ]
  },
  {
   "cell_type": "code",
   "execution_count": null,
   "id": "ef0bacaa",
   "metadata": {},
   "outputs": [],
   "source": [
    "import numpy as np\n",
    "import pandas as pd\n",
    "import matplotlib.pyplot as plt\n",
    "for column in columns:\n",
    "    to_array = dataset[[column]].to_numpy() \n",
    "    plt.boxplot(to_array)\n",
    "    plt.title(column)\n",
    "    fig = plt.figure(figsize =(10, 7))\n",
    "    \n",
    "    plt.show()"
   ]
  }
 ],
 "metadata": {
  "interpreter": {
   "hash": "3d99c4308d8dc5f8428d85b97a5a8546e380c637fba7a2e47370ff9a62ec2985"
  },
  "kernelspec": {
   "display_name": "Python 3.9.4 64-bit",
   "language": "python",
   "name": "python3"
  },
  "language_info": {
   "codemirror_mode": {
    "name": "ipython",
    "version": 3
   },
   "file_extension": ".py",
   "mimetype": "text/x-python",
   "name": "python",
   "nbconvert_exporter": "python",
   "pygments_lexer": "ipython3",
   "version": "3.9.4"
  }
 },
 "nbformat": 4,
 "nbformat_minor": 5
}
