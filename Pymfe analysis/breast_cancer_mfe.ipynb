{
 "cells": [
  {
   "cell_type": "code",
   "execution_count": null,
   "id": "756494c9",
   "metadata": {},
   "outputs": [],
   "source": [
    "import pandas as pd\n",
    "from pymfe.mfe import MFE\n",
    "\n",
    "dataset = pd.read_csv('../datasets/breast_cancer_wisconsin.csv',sep=\",\")\n",
    "dataset.head()"
   ]
  },
  {
   "cell_type": "code",
   "execution_count": null,
   "id": "fe3e1523",
   "metadata": {},
   "outputs": [],
   "source": [
    "dataset.loc[:,dataset.columns != 'Location' ].dropna(axis=1, how='all').isna().sum()"
   ]
  },
  {
   "cell_type": "code",
   "execution_count": null,
   "id": "6a6bc173",
   "metadata": {},
   "outputs": [],
   "source": [
    "columns = dataset.columns\n",
    "columns = columns.delete(1)"
   ]
  },
  {
   "cell_type": "code",
   "execution_count": null,
   "id": "661aebe0",
   "metadata": {},
   "outputs": [],
   "source": [
    "X=dataset.iloc[:,0:-1].values\n",
    "y=dataset.iloc[:,-1].values\n",
    "X"
   ]
  },
  {
   "cell_type": "code",
   "execution_count": null,
   "id": "d31b0351",
   "metadata": {},
   "outputs": [],
   "source": [
    "#osnovne meta-značajke\n",
    "mfe = MFE(groups=[\"general\"])\n",
    "mfe.fit(X, y)\n",
    "ft = mfe.extract()\n",
    "print(\"\\n\".join(\"{:50} {:30}\".format(x, y) for x, y in zip(ft[0], ft[1])))\n",
    "#broj atributa 32 (visokodimenzionalan)\n",
    "#samo numeričke varijable\n",
    "#vrlo mali skup podataka (569 instanci)\n",
    "#samo jedan atribut bez outlier\n",
    "#skup podataka sa malo šuma\n",
    "#Skup podataka djelomično balansiran (59/41%)\n",
    "#problem binarne klasifikacije"
   ]
  },
  {
   "cell_type": "code",
   "execution_count": null,
   "id": "9423af4d",
   "metadata": {},
   "outputs": [],
   "source": [
    "#statističke meta-značajke\n",
    "mfe = MFE(groups=[\"statistical\"])\n",
    "mfe.fit(X, y)\n",
    "ft = mfe.extract()\n",
    "print(\"\\n\".join(\"{:50} {:30}\".format(x, y) for x, y in zip(ft[0], ft[1])))"
   ]
  },
  {
   "cell_type": "code",
   "execution_count": null,
   "id": "d225146a",
   "metadata": {},
   "outputs": [],
   "source": [
    "#info-teorijske meta-značajke\n",
    "mfe = MFE(groups=[\"info-theory\"])\n",
    "mfe.fit(X, y)\n",
    "ft = mfe.extract()\n",
    "print(\"\\n\".join(\"{:50} {:30}\".format(x, y) for x, y in zip(ft[0], ft[1])))"
   ]
  },
  {
   "cell_type": "code",
   "execution_count": null,
   "id": "4a81dc90",
   "metadata": {},
   "outputs": [],
   "source": [
    "import numpy as np\n",
    "import pandas as pd\n",
    "import matplotlib.pyplot as plt\n",
    "for column in columns:\n",
    "    to_array = dataset[[column]].to_numpy() \n",
    "    plt.boxplot(to_array)\n",
    "    plt.title(column)\n",
    "    fig = plt.figure(figsize =(10, 7))\n",
    "    \n",
    "    plt.show()"
   ]
  }
 ],
 "metadata": {
  "interpreter": {
   "hash": "3d99c4308d8dc5f8428d85b97a5a8546e380c637fba7a2e47370ff9a62ec2985"
  },
  "kernelspec": {
   "display_name": "Python 3.9.4 64-bit",
   "language": "python",
   "name": "python3"
  },
  "language_info": {
   "codemirror_mode": {
    "name": "ipython",
    "version": 3
   },
   "file_extension": ".py",
   "mimetype": "text/x-python",
   "name": "python",
   "nbconvert_exporter": "python",
   "pygments_lexer": "ipython3",
   "version": "3.9.4"
  }
 },
 "nbformat": 4,
 "nbformat_minor": 5
}
