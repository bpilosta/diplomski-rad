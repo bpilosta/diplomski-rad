{
 "cells": [
  {
   "cell_type": "code",
   "execution_count": null,
   "id": "756494c9",
   "metadata": {},
   "outputs": [],
   "source": [
    "import pandas as pd\n",
    "from pymfe.mfe import MFE\n",
    "\n",
    "dataset = pd.read_csv('../datasets/rain_australia.csv',sep=',')"
   ]
  },
  {
   "cell_type": "code",
   "execution_count": null,
   "id": "a24ec278",
   "metadata": {},
   "outputs": [],
   "source": [
    "dataset.loc[:,dataset.columns != 'Location' ].dropna(axis=1, how='all').isna().sum()"
   ]
  },
  {
   "cell_type": "code",
   "execution_count": null,
   "id": "652c3583",
   "metadata": {},
   "outputs": [],
   "source": [
    "dataset = dataset.drop(['Date'], axis=1)\n",
    "dataset = dataset[dataset['RainToday'].notna()]\n",
    "dataset.isna().sum()\n",
    "dataset = dataset[dataset['RainTomorrow'].notna()]\n",
    "dataset.isna().sum()\n",
    "object_elements = ['Location','WindGustDir','WindDir9am','WindDir3pm','RainToday','RainTomorrow']\n",
    "object_elements\n",
    "from sklearn.impute import SimpleImputer\n",
    "import numpy as np\n",
    "for el in object_elements:\n",
    "    imputer = SimpleImputer(missing_values=np.nan, strategy='constant', fill_value='Unknown')\n",
    "    imputer.fit(dataset[[el]])\n",
    "    dataset[[el]] = imputer.transform(dataset[[el]])\n",
    "float_elements = []\n",
    "for element in dataset.columns:\n",
    "    if element not in object_elements:\n",
    "        float_elements.append(element)\n",
    "float_elements\n",
    "for el in float_elements:\n",
    "    imputer = SimpleImputer(missing_values=np.nan, strategy='mean')\n",
    "    imputer.fit(dataset[[el]])\n",
    "    dataset[[el]] = imputer.transform(dataset[[el]])"
   ]
  },
  {
   "cell_type": "code",
   "execution_count": null,
   "id": "949fff90",
   "metadata": {},
   "outputs": [],
   "source": [
    "X=dataset.iloc[:,0:-1].values\n",
    "y=dataset.iloc[:,-1].values\n",
    "X"
   ]
  },
  {
   "cell_type": "code",
   "execution_count": null,
   "id": "b3239920",
   "metadata": {},
   "outputs": [],
   "source": [
    "columns = dataset.columns"
   ]
  },
  {
   "cell_type": "code",
   "execution_count": null,
   "id": "17f4b641",
   "metadata": {},
   "outputs": [],
   "source": [
    "from sklearn.preprocessing import LabelEncoder\n",
    "for el in object_elements:\n",
    "    le = LabelEncoder()\n",
    "    dataset[el] = le.fit_transform(dataset[el])\n"
   ]
  },
  {
   "cell_type": "code",
   "execution_count": null,
   "id": "d31b0351",
   "metadata": {},
   "outputs": [],
   "source": [
    "#osnovne meta-značajke\n",
    "mfe = MFE(groups=[\"general\"])\n",
    "mfe.fit(X, y)\n",
    "ft = mfe.extract()\n",
    "print(\"\\n\".join(\"{:50} {:30}\".format(x, y) for x, y in zip(ft[0], ft[1])))\n",
    "#broj atributa 21\n",
    "#dominiraju numeričke varijable\n",
    "#veliki skup podataka (140787) instanci\n",
    "#13 atributa s outlier vrijednostima\n",
    "##skup podataka sa puno šuma\n",
    "#manja klasna nebalansiranost"
   ]
  },
  {
   "cell_type": "code",
   "execution_count": null,
   "id": "9423af4d",
   "metadata": {},
   "outputs": [],
   "source": [
    "#statističke meta-značajke\n",
    "mfe = MFE(groups=[\"statistical\"])\n",
    "mfe.fit(X, y)\n",
    "ft = mfe.extract()\n",
    "print(\"\\n\".join(\"{:50} {:30}\".format(x, y) for x, y in zip(ft[0], ft[1])))"
   ]
  },
  {
   "cell_type": "code",
   "execution_count": null,
   "id": "d225146a",
   "metadata": {},
   "outputs": [],
   "source": [
    "#info-teorijske meta-značajke\n",
    "mfe = MFE(groups=[\"info-theory\"])\n",
    "mfe.fit(X, y)\n",
    "ft = mfe.extract()\n",
    "print(\"\\n\".join(\"{:50} {:30}\".format(x, y) for x, y in zip(ft[0], ft[1])))"
   ]
  },
  {
   "cell_type": "code",
   "execution_count": null,
   "id": "9e6be723",
   "metadata": {},
   "outputs": [],
   "source": [
    "import numpy as np\n",
    "import pandas as pd\n",
    "import matplotlib.pyplot as plt\n",
    "for column in columns:\n",
    "    to_array = dataset[[column]].to_numpy() \n",
    "    plt.boxplot(to_array)\n",
    "    plt.title(column)\n",
    "    fig = plt.figure(figsize =(10, 7))\n",
    "    \n",
    "    plt.show()"
   ]
  }
 ],
 "metadata": {
  "interpreter": {
   "hash": "3d99c4308d8dc5f8428d85b97a5a8546e380c637fba7a2e47370ff9a62ec2985"
  },
  "kernelspec": {
   "display_name": "Python 3.9.4 64-bit",
   "language": "python",
   "name": "python3"
  },
  "language_info": {
   "codemirror_mode": {
    "name": "ipython",
    "version": 3
   },
   "file_extension": ".py",
   "mimetype": "text/x-python",
   "name": "python",
   "nbconvert_exporter": "python",
   "pygments_lexer": "ipython3",
   "version": "3.9.4"
  }
 },
 "nbformat": 4,
 "nbformat_minor": 5
}
