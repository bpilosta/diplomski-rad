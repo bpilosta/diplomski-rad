{
 "cells": [
  {
   "cell_type": "markdown",
   "metadata": {
    "colab_type": "text",
    "id": "0MRC0e0KhQ0S"
   },
   "source": [
    "#  Credit card fraud detection"
   ]
  },
  {
   "cell_type": "markdown",
   "metadata": {
    "colab_type": "text",
    "id": "LWd1UlMnhT2s"
   },
   "source": [
    "## Učitavanje biblioteka"
   ]
  },
  {
   "cell_type": "code",
   "execution_count": null,
   "metadata": {
    "colab": {},
    "colab_type": "code",
    "id": "YvGPUQaHhXfL"
   },
   "outputs": [],
   "source": [
    "import numpy as np\n",
    "import matplotlib.pyplot as plt\n",
    "import pandas as pd\n",
    "import seaborn as sns\n",
    "from sklearn import metrics\n",
    "import tensorflow as tf\n",
    "import time"
   ]
  },
  {
   "cell_type": "code",
   "execution_count": null,
   "metadata": {},
   "outputs": [],
   "source": [
    "#funkcija za računanje metrika\n",
    "def metrike(modeli, testData, y_test, time):\n",
    "    for ind, model in enumerate(modeli):\n",
    "        print(F\"Algoritam: {type(model.optimizer).__name__}\")\n",
    "        #ako je ANN\n",
    "        y_pred = model.predict(testData)\n",
    "        y_pred = (y_pred > 0.5)\n",
    "        print(\"Accuracy: \", metrics.accuracy_score(y_test, y_pred))\n",
    "        print('ROC AUC:', metrics.roc_auc_score(y_test, y_pred))\n",
    "        print(\"Confusion matrix\")\n",
    "        CM = metrics.confusion_matrix(y_test, y_pred) #confusion matrica\n",
    "        TN = CM[0, 0]\n",
    "        TP = CM[1, 1]\n",
    "        FP = CM[0, 1]\n",
    "        FN = CM[1, 0]\n",
    "        print(\"    P0           P1\")\n",
    "        print(f\"S0  {TN}        {FP}\")\n",
    "        print(f\"S1  {FN}        {TP}\")\n",
    "        print(\"Recall: \",metrics.recall_score(y_test,y_pred))\n",
    "        print(\"Precision: \",  metrics.precision_score(y_test, y_pred))\n",
    "        print(\"F1 score: \", metrics.f1_score(y_test, y_pred))\n",
    "        print(f\"Training time (sec): {time[ind]}\" )\n",
    "        print(\"-----------------------------------------------\")\n",
    "def metrike_table(modeli, testData, y_test, tr_time, histories):\n",
    "    data = []\n",
    "    for ind, model in enumerate(modeli):\n",
    "        start = time.time()\n",
    "        y_pred = model.predict(testData)\n",
    "        y_pred = (y_pred > 0.5)\n",
    "        test_time = time.time()-start\n",
    "        data.append([\n",
    "            type(model.optimizer).__name__,\n",
    "            metrics.accuracy_score(y_test, y_pred),\n",
    "            metrics.roc_auc_score(y_test, y_pred),\n",
    "            metrics.recall_score(y_test,y_pred),\n",
    "            metrics.precision_score(y_test, y_pred),\n",
    "            metrics.f1_score(y_test, y_pred),\n",
    "            tr_time[ind],\n",
    "            test_time,\n",
    "            len(histories[ind].history['loss'])\n",
    "            ])\n",
    "        plt.plot(pd.DataFrame(histories[ind].history[\"auc\"]))\n",
    "        plt.plot(pd.DataFrame(histories[ind].history[\"val_auc\"]))\n",
    "        plt.xlabel('Epochs')\n",
    "        plt.ylabel('AUC')\n",
    "        plt.title(f'{type(model.optimizer).__name__} AUC')\n",
    "        plt.figure(figsize=(6,6), dpi=500)\n",
    "        plt.show()\n",
    "\n",
    "        plt.plot(pd.DataFrame(histories[ind].history[\"loss\"]))\n",
    "        plt.plot(pd.DataFrame(histories[ind].history[\"val_loss\"]))\n",
    "        plt.xlabel('Epochs')\n",
    "        plt.ylabel('Loss')\n",
    "        plt.title(f'{type(model.optimizer).__name__} loss')\n",
    "        plt.figure(figsize=(6,6), dpi=500)\n",
    "        plt.show()\n",
    "    df = pd.DataFrame(data, columns = ['Algoritam', \"Accuracy\",'ROC AUC',\"Recall\",\"Precision\",\"F1 score\", \"Training time (sec)\",\"Test time (sec)\",'Epochs'])\n",
    "    return df"
   ]
  },
  {
   "cell_type": "markdown",
   "metadata": {
    "colab_type": "text",
    "id": "K1VMqkGvhc3-"
   },
   "source": [
    "## Učitavanje skupa podataka"
   ]
  },
  {
   "cell_type": "code",
   "execution_count": null,
   "metadata": {
    "colab": {},
    "colab_type": "code",
    "id": "M52QDmyzhh9s"
   },
   "outputs": [],
   "source": [
    "dataset = pd.read_csv('../datasets/creditcard.csv')\n",
    "dataset.head()"
   ]
  },
  {
   "cell_type": "markdown",
   "metadata": {},
   "source": [
    "## Analiza skupa podataka"
   ]
  },
  {
   "cell_type": "code",
   "execution_count": null,
   "metadata": {
    "scrolled": true
   },
   "outputs": [],
   "source": [
    "dataset.dtypes"
   ]
  },
  {
   "cell_type": "code",
   "execution_count": null,
   "metadata": {},
   "outputs": [],
   "source": [
    "dataset.describe()"
   ]
  },
  {
   "cell_type": "code",
   "execution_count": null,
   "metadata": {},
   "outputs": [],
   "source": [
    "dataset['Class'].value_counts()"
   ]
  },
  {
   "cell_type": "code",
   "execution_count": null,
   "metadata": {},
   "outputs": [],
   "source": [
    "no_fraud = dataset['Class'].value_counts()[0]\n",
    "fraud = dataset['Class'].value_counts()[1]"
   ]
  },
  {
   "cell_type": "code",
   "execution_count": null,
   "metadata": {},
   "outputs": [],
   "source": [
    "plt.figure(figsize=(5,5))\n",
    "plt.bar(['Fraud','No fraud'],[fraud,no_fraud])\n",
    "plt.ylabel(\"Number of transactions\")\n",
    "plt.title(\"Fraud/no fraud\")\n",
    "plt.show()"
   ]
  },
  {
   "cell_type": "code",
   "execution_count": null,
   "metadata": {},
   "outputs": [],
   "source": [
    "dataset['Class'].value_counts()[1]/len(dataset)*100\n",
    "#0.17% instanci pripada klasi \"Fraud\""
   ]
  },
  {
   "cell_type": "code",
   "execution_count": null,
   "metadata": {},
   "outputs": [],
   "source": [
    "korelacijska_matrica = dataset.corr()\n",
    "plt.subplots(figsize=(10,10))\n",
    "sns.heatmap(korelacijska_matrica, vmax=0.9, square=True)"
   ]
  },
  {
   "cell_type": "code",
   "execution_count": null,
   "metadata": {},
   "outputs": [],
   "source": [
    "pd.DataFrame(dataset.corr()['Class'].drop('Class'),dataset.drop(['Class'], axis=1).columns)"
   ]
  },
  {
   "cell_type": "markdown",
   "metadata": {},
   "source": [
    "## Čišćenje"
   ]
  },
  {
   "cell_type": "code",
   "execution_count": null,
   "metadata": {},
   "outputs": [],
   "source": [
    "#nema null vrijednosti\n",
    "dataset.isna().sum()"
   ]
  },
  {
   "cell_type": "code",
   "execution_count": null,
   "metadata": {
    "scrolled": true
   },
   "outputs": [],
   "source": [
    "X=dataset.drop(['Time','Class'], axis=1)\n",
    "Y=dataset['Class']"
   ]
  },
  {
   "cell_type": "code",
   "execution_count": null,
   "metadata": {},
   "outputs": [],
   "source": [
    "X.head()"
   ]
  },
  {
   "cell_type": "code",
   "execution_count": null,
   "metadata": {},
   "outputs": [],
   "source": [
    "Y.head()"
   ]
  },
  {
   "cell_type": "markdown",
   "metadata": {
    "colab_type": "text",
    "id": "YvxIPVyMhmKp"
   },
   "source": [
    "## Podjela na trening i test skupove"
   ]
  },
  {
   "cell_type": "code",
   "execution_count": null,
   "metadata": {
    "colab": {},
    "colab_type": "code",
    "id": "AVzJWAXIhxoC"
   },
   "outputs": [],
   "source": [
    "from sklearn.model_selection import train_test_split\n",
    "X_train, X_test, y_train, y_test = train_test_split(X, Y, test_size = 0.3, random_state=42)"
   ]
  },
  {
   "cell_type": "markdown",
   "metadata": {
    "colab_type": "text",
    "id": "kW3c7UYih0hT"
   },
   "source": [
    "## Standardizacija"
   ]
  },
  {
   "cell_type": "code",
   "execution_count": null,
   "metadata": {},
   "outputs": [],
   "source": [
    "from sklearn.preprocessing import StandardScaler\n",
    "scX = StandardScaler()\n",
    "X_train = scX.fit_transform(X_train)\n",
    "X_test = scX.transform(X_test)"
   ]
  },
  {
   "cell_type": "markdown",
   "metadata": {},
   "source": [
    "## ANN - ADAM"
   ]
  },
  {
   "cell_type": "code",
   "execution_count": null,
   "metadata": {},
   "outputs": [],
   "source": [
    "metric = tf.keras.metrics.AUC()\n",
    "ann_adam = tf.keras.models.Sequential()\n",
    "#3 skirvena sloja sa po 8, 16 i 32 neurona\n",
    "ann_adam.add(tf.keras.layers.Dense(units=8, activation='relu'))\n",
    "ann_adam.add(tf.keras.layers.Dense(units=16, activation='relu'))\n",
    "ann_adam.add(tf.keras.layers.Dense(units=32, activation='relu'))\n",
    "# Dodavanje izlaznog sloja\n",
    "ann_adam.add(tf.keras.layers.Dense(units=1, activation='sigmoid'))\n",
    "# kompajliranje mreže\n",
    "ann_adam.compile(optimizer = 'adam', loss = 'binary_crossentropy', metrics = [metric])"
   ]
  },
  {
   "cell_type": "markdown",
   "metadata": {},
   "source": [
    "print(f\"R2 score:{metrics.r2_score(y_test,grid_result.predict(X_test))}\")"
   ]
  },
  {
   "cell_type": "code",
   "execution_count": null,
   "metadata": {
    "scrolled": false
   },
   "outputs": [],
   "source": [
    "start = time.time()\n",
    "adam_history = ann_adam.fit(X_train, y_train, batch_size = 32, epochs = 5, validation_data=(X_test,y_test))\n",
    "adam_time = time.time()-start"
   ]
  },
  {
   "cell_type": "code",
   "execution_count": null,
   "metadata": {},
   "outputs": [],
   "source": [
    "metrike([ann_adam], X_test, y_test, [adam_time])"
   ]
  },
  {
   "cell_type": "code",
   "execution_count": null,
   "metadata": {},
   "outputs": [],
   "source": [
    "plt.plot(pd.DataFrame(adam_history.history[\"auc\"]))\n",
    "plt.plot(pd.DataFrame(adam_history.history[\"val_auc\"]))\n",
    "plt.figure(figsize=(6,6), dpi=500)\n",
    "plt.show()\n",
    "\n",
    "plt.plot(pd.DataFrame(adam_history.history[\"loss\"]))\n",
    "plt.plot(pd.DataFrame(adam_history.history[\"val_loss\"]))\n",
    "plt.figure(figsize=(6,6), dpi=500)\n",
    "plt.show()"
   ]
  },
  {
   "cell_type": "markdown",
   "metadata": {},
   "source": [
    "## ANN - ADAMAX"
   ]
  },
  {
   "cell_type": "code",
   "execution_count": null,
   "metadata": {},
   "outputs": [],
   "source": [
    "\n",
    "metric.reset_state()\n",
    "ann_adamax = tf.keras.models.Sequential()\n",
    "ann_adamax.add(tf.keras.layers.Dense(units=8, activation='relu'))\n",
    "ann_adamax.add(tf.keras.layers.Dense(units=16, activation='relu'))\n",
    "ann_adamax.add(tf.keras.layers.Dense(units=32, activation='relu'))\n",
    "ann_adamax.add(tf.keras.layers.Dense(units=1, activation='sigmoid'))\n",
    "ann_adamax.compile(optimizer = 'adamax', loss = 'binary_crossentropy', metrics = [metric])"
   ]
  },
  {
   "cell_type": "code",
   "execution_count": null,
   "metadata": {},
   "outputs": [],
   "source": [
    "start = time.time()\n",
    "adamax_history = ann_adamax.fit(X_train, y_train, batch_size = 32, epochs = 28, validation_data=(X_test,y_test))\n",
    "adamax_time = time.time()-start"
   ]
  },
  {
   "cell_type": "code",
   "execution_count": null,
   "metadata": {},
   "outputs": [],
   "source": [
    "metrike([ann_adamax], X_test, y_test, [adamax_time])"
   ]
  },
  {
   "cell_type": "code",
   "execution_count": null,
   "metadata": {},
   "outputs": [],
   "source": [
    "plt.plot(pd.DataFrame(adamax_history.history[\"auc\"]))\n",
    "plt.plot(pd.DataFrame(adamax_history.history[\"val_auc\"]))\n",
    "plt.figure(figsize=(6,6), dpi=500)\n",
    "plt.show()\n",
    "\n",
    "plt.plot(pd.DataFrame(adamax_history.history[\"loss\"]))\n",
    "plt.plot(pd.DataFrame(adamax_history.history[\"val_loss\"]))\n",
    "plt.figure(figsize=(6,6), dpi=500)\n",
    "plt.show()"
   ]
  },
  {
   "cell_type": "markdown",
   "metadata": {},
   "source": [
    "## ANN - ADAGRAD"
   ]
  },
  {
   "cell_type": "code",
   "execution_count": null,
   "metadata": {},
   "outputs": [],
   "source": [
    "metric.reset_state()\n",
    "ann_adagrad = tf.keras.models.Sequential()\n",
    "#2 skirvena sloja sa 64 neurona\n",
    "ann_adagrad.add(tf.keras.layers.Dense(units=8, activation='relu'))\n",
    "ann_adagrad.add(tf.keras.layers.Dense(units=16, activation='relu'))\n",
    "ann_adagrad.add(tf.keras.layers.Dense(units=32, activation='relu'))\n",
    "# Dodavanje izlaznog sloja\n",
    "ann_adagrad.add(tf.keras.layers.Dense(units=1, activation='sigmoid'))\n",
    "# kompajliranje mreže\n",
    "ann_adagrad.compile(optimizer = 'adagrad', loss = 'binary_crossentropy', metrics = [metric])"
   ]
  },
  {
   "cell_type": "code",
   "execution_count": null,
   "metadata": {},
   "outputs": [],
   "source": [
    "start = time.time()\n",
    "adagrad_history = ann_adagrad.fit(X_train, y_train, batch_size = 32, epochs = 100, validation_data=(X_test, y_test))\n",
    "adagrad_time = time.time()-start"
   ]
  },
  {
   "cell_type": "code",
   "execution_count": null,
   "metadata": {},
   "outputs": [],
   "source": [
    "metrike([ann_adagrad], X_test, y_test, [adagrad_time])"
   ]
  },
  {
   "cell_type": "code",
   "execution_count": null,
   "metadata": {},
   "outputs": [],
   "source": [
    "plt.plot(pd.DataFrame(adagrad_history.history[\"auc\"]))\n",
    "plt.plot(pd.DataFrame(adagrad_history.history[\"val_auc\"]))\n",
    "plt.figure(figsize=(6,6), dpi=500)\n",
    "plt.show()\n",
    "\n",
    "plt.plot(pd.DataFrame(adagrad_history.history[\"loss\"]))\n",
    "plt.plot(pd.DataFrame(adagrad_history.history[\"val_loss\"]))\n",
    "plt.figure(figsize=(6,6), dpi=500)\n",
    "plt.show()"
   ]
  },
  {
   "cell_type": "markdown",
   "metadata": {},
   "source": [
    "## ANN - NADAM"
   ]
  },
  {
   "cell_type": "code",
   "execution_count": null,
   "metadata": {},
   "outputs": [],
   "source": [
    "metric.reset_state()\n",
    "ann_nadam = tf.keras.models.Sequential()\n",
    "ann_nadam.add(tf.keras.layers.Dense(units=8, activation='relu'))\n",
    "ann_nadam.add(tf.keras.layers.Dense(units=16, activation='relu'))\n",
    "ann_nadam.add(tf.keras.layers.Dense(units=32, activation='relu'))\n",
    "ann_nadam.add(tf.keras.layers.Dense(units=1, activation='sigmoid'))\n",
    "ann_nadam.compile(optimizer = 'nadam', loss = 'binary_crossentropy', metrics = [metric])"
   ]
  },
  {
   "cell_type": "code",
   "execution_count": null,
   "metadata": {},
   "outputs": [],
   "source": [
    "start = time.time()\n",
    "nadam_history = ann_nadam.fit(X_train, y_train, batch_size = 32, epochs = 5, validation_data=(X_test,y_test))\n",
    "nadam_time = time.time()-start"
   ]
  },
  {
   "cell_type": "code",
   "execution_count": null,
   "metadata": {},
   "outputs": [],
   "source": [
    "metrike([ann_nadam], X_test, y_test, [nadam_time])"
   ]
  },
  {
   "cell_type": "code",
   "execution_count": null,
   "metadata": {},
   "outputs": [],
   "source": [
    "plt.plot(pd.DataFrame(nadam_history.history[\"auc\"]))\n",
    "plt.plot(pd.DataFrame(nadam_history.history[\"val_auc\"]))\n",
    "plt.figure(figsize=(6,6), dpi=500)\n",
    "plt.show()\n",
    "\n",
    "plt.plot(pd.DataFrame(nadam_history.history[\"loss\"]))\n",
    "plt.plot(pd.DataFrame(nadam_history.history[\"val_loss\"]))\n",
    "plt.figure(figsize=(6,6), dpi=500)\n",
    "plt.show()"
   ]
  },
  {
   "cell_type": "markdown",
   "metadata": {},
   "source": [
    "## ANN - SGD"
   ]
  },
  {
   "cell_type": "code",
   "execution_count": null,
   "metadata": {},
   "outputs": [],
   "source": [
    "metric.reset_state()\n",
    "ann_sgd = tf.keras.models.Sequential()\n",
    "ann_sgd.add(tf.keras.layers.Dense(units=8, activation='relu'))\n",
    "ann_sgd.add(tf.keras.layers.Dense(units=16, activation='relu'))\n",
    "ann_sgd.add(tf.keras.layers.Dense(units=32, activation='relu'))\n",
    "ann_sgd.add(tf.keras.layers.Dense(units=1, activation='sigmoid'))\n",
    "ann_sgd.compile(optimizer = 'SGD', loss = 'binary_crossentropy', metrics = [metric])"
   ]
  },
  {
   "cell_type": "code",
   "execution_count": null,
   "metadata": {},
   "outputs": [],
   "source": [
    "start = time.time()\n",
    "sgd_history = ann_sgd.fit(X_train, y_train, batch_size = 32, epochs = 80, validation_data=(X_test,y_test))\n",
    "sgd_time = time.time()-start"
   ]
  },
  {
   "cell_type": "code",
   "execution_count": null,
   "metadata": {},
   "outputs": [],
   "source": [
    "metrike([ann_sgd], X_test, y_test, [sgd_time])"
   ]
  },
  {
   "cell_type": "code",
   "execution_count": null,
   "metadata": {},
   "outputs": [],
   "source": [
    "plt.plot(pd.DataFrame(sgd_history.history[\"auc\"]))\n",
    "plt.plot(pd.DataFrame(sgd_history.history[\"val_auc\"]))\n",
    "plt.figure(figsize=(6,6), dpi=500)\n",
    "plt.show()\n",
    "\n",
    "plt.plot(pd.DataFrame(sgd_history.history[\"loss\"]))\n",
    "plt.plot(pd.DataFrame(sgd_history.history[\"val_loss\"]))\n",
    "plt.figure(figsize=(6,6), dpi=500)\n",
    "plt.show()"
   ]
  },
  {
   "cell_type": "markdown",
   "metadata": {},
   "source": [
    "## ANN - RMSprop"
   ]
  },
  {
   "cell_type": "code",
   "execution_count": null,
   "metadata": {},
   "outputs": [],
   "source": [
    "metric.reset_state()\n",
    "ann_rms = tf.keras.models.Sequential()\n",
    "ann_rms.add(tf.keras.layers.Dense(units=8, activation='relu'))\n",
    "ann_rms.add(tf.keras.layers.Dense(units=16, activation='relu'))\n",
    "ann_rms.add(tf.keras.layers.Dense(units=32, activation='relu'))\n",
    "ann_rms.add(tf.keras.layers.Dense(units=1, activation='sigmoid'))\n",
    "ann_rms.compile(optimizer = 'rmsprop', loss = 'binary_crossentropy', metrics = [metric])"
   ]
  },
  {
   "cell_type": "code",
   "execution_count": null,
   "metadata": {},
   "outputs": [],
   "source": [
    "start = time.time()\n",
    "rms_history = ann_rms.fit(X_train, y_train, batch_size = 32, epochs = 8, validation_data=(X_test,y_test))\n",
    "rms_time = time.time()-start"
   ]
  },
  {
   "cell_type": "code",
   "execution_count": null,
   "metadata": {},
   "outputs": [],
   "source": [
    "metrike([ann_rms], X_test, y_test, [rms_time])"
   ]
  },
  {
   "cell_type": "code",
   "execution_count": null,
   "metadata": {},
   "outputs": [],
   "source": [
    "plt.plot(pd.DataFrame(rms_history.history[\"auc\"]))\n",
    "plt.plot(pd.DataFrame(rms_history.history[\"val_auc\"]))\n",
    "plt.figure(figsize=(6,6), dpi=500)\n",
    "plt.show()\n",
    "\n",
    "plt.plot(pd.DataFrame(rms_history.history[\"loss\"]))\n",
    "plt.plot(pd.DataFrame(rms_history.history[\"val_loss\"]))\n",
    "plt.figure(figsize=(6,6), dpi=500)\n",
    "plt.show()"
   ]
  },
  {
   "cell_type": "code",
   "execution_count": null,
   "metadata": {},
   "outputs": [],
   "source": [
    "models = [ann_adam,ann_adamax,ann_adagrad,ann_nadam,ann_sgd,ann_rms]\n",
    "times = [adam_time,adamax_time,adagrad_time, nadam_time, sgd_time,rms_time]\n",
    "histories = [adam_history,adamax_history,adagrad_history,nadam_history,sgd_history,rms_history]\n",
    "metrike_table(models, X_test, y_test, times, histories)"
   ]
  },
  {
   "cell_type": "code",
   "execution_count": null,
   "metadata": {},
   "outputs": [],
   "source": [
    "for model in models:\n",
    "    model.save(f'../saved_models/credit_card/{type(model.optimizer).__name__}')"
   ]
  }
 ],
 "metadata": {
  "colab": {
   "authorship_tag": "ABX9TyO/71HmJztjHpR9Q3DXpRZQ",
   "collapsed_sections": [],
   "machine_shape": "hm",
   "name": "k_nearest_neighbors.ipynb",
   "provenance": [],
   "toc_visible": true
  },
  "interpreter": {
   "hash": "3d99c4308d8dc5f8428d85b97a5a8546e380c637fba7a2e47370ff9a62ec2985"
  },
  "kernelspec": {
   "display_name": "Python 3.9.4 64-bit",
   "language": "python",
   "name": "python3"
  },
  "language_info": {
   "codemirror_mode": {
    "name": "ipython",
    "version": 3
   },
   "file_extension": ".py",
   "mimetype": "text/x-python",
   "name": "python",
   "nbconvert_exporter": "python",
   "pygments_lexer": "ipython3",
   "version": "3.9.4"
  }
 },
 "nbformat": 4,
 "nbformat_minor": 1
}
