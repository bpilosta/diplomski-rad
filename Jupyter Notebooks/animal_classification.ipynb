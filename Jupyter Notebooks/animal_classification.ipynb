{
 "cells": [
  {
   "cell_type": "markdown",
   "metadata": {
    "colab_type": "text",
    "id": "0MRC0e0KhQ0S"
   },
   "source": [
    "#  Cats and dogs recognition"
   ]
  },
  {
   "cell_type": "markdown",
   "metadata": {
    "colab_type": "text",
    "id": "LWd1UlMnhT2s"
   },
   "source": [
    "## Učitavanje biblioteka"
   ]
  },
  {
   "cell_type": "code",
   "execution_count": null,
   "metadata": {
    "colab": {},
    "colab_type": "code",
    "id": "YvGPUQaHhXfL"
   },
   "outputs": [],
   "source": [
    "import matplotlib.pyplot as plt\n",
    "import pandas as pd\n",
    "from sklearn import metrics\n",
    "import tensorflow as tf\n",
    "from keras.preprocessing.image import ImageDataGenerator\n",
    "import time"
   ]
  },
  {
   "cell_type": "code",
   "execution_count": null,
   "metadata": {},
   "outputs": [],
   "source": [
    "#funkcija za računanje metrika\n",
    "def metrike(modeli, testData, y_test, time):\n",
    "    for ind, model in enumerate(modeli):\n",
    "        print(F\"Algoritam: {type(model.optimizer).__name__}\")\n",
    "        #ako je ANN\n",
    "        y_pred = model.predict(testData)\n",
    "        y_pred = (y_pred > 0.5)\n",
    "        print(\"Accuracy: \", metrics.accuracy_score(y_test, y_pred))\n",
    "        print('ROC AUC:', metrics.roc_auc_score(y_test, y_pred))\n",
    "        print(\"Confusion matrix\")\n",
    "        CM = metrics.confusion_matrix(y_test, y_pred) #confusion matrica\n",
    "        TN = CM[0, 0]\n",
    "        TP = CM[1, 1]\n",
    "        FP = CM[0, 1]\n",
    "        FN = CM[1, 0]\n",
    "        print(\"    P0           P1\")\n",
    "        print(f\"S0  {TN}        {FP}\")\n",
    "        print(f\"S1  {FN}        {TP}\")\n",
    "        print(\"Recall: \",metrics.recall_score(y_test,y_pred))\n",
    "        print(\"Precision: \",  metrics.precision_score(y_test, y_pred))\n",
    "        print(\"F1 score: \", metrics.f1_score(y_test, y_pred))\n",
    "        print(f\"Training time (sec): {time[ind]}\" )\n",
    "        print(\"-----------------------------------------------\")\n",
    "def metrike_table(modeli, testData, y_test, tr_time, histories):\n",
    "    data = []\n",
    "    for ind, model in enumerate(modeli):\n",
    "        start = time.time()\n",
    "        y_pred = model.predict(testData)\n",
    "        y_pred = (y_pred > 0.5)\n",
    "        test_time = time.time()-start\n",
    "        data.append([\n",
    "            type(model.optimizer).__name__,\n",
    "            metrics.accuracy_score(y_test, y_pred),\n",
    "            metrics.roc_auc_score(y_test, y_pred),\n",
    "            metrics.recall_score(y_test,y_pred),\n",
    "            metrics.precision_score(y_test, y_pred),\n",
    "            metrics.f1_score(y_test, y_pred),\n",
    "            tr_time[ind],\n",
    "            test_time,\n",
    "            len(histories[ind].history['loss'])\n",
    "            ])\n",
    "        plt.plot(pd.DataFrame(histories[ind].history[\"accuracy\"]))\n",
    "        plt.plot(pd.DataFrame(histories[ind].history[\"val_accuracy\"]))\n",
    "        plt.xlabel('Epochs')\n",
    "        plt.ylabel('Accuracy')\n",
    "        plt.title(f'{type(model.optimizer).__name__} accuracy')\n",
    "        plt.figure(figsize=(6,6), dpi=500)\n",
    "        plt.show()\n",
    "\n",
    "        plt.plot(pd.DataFrame(histories[ind].history[\"loss\"]))\n",
    "        plt.plot(pd.DataFrame(histories[ind].history[\"val_loss\"]))\n",
    "        plt.xlabel('Epochs')\n",
    "        plt.ylabel('Loss')\n",
    "        plt.title(f'{type(model.optimizer).__name__} loss')\n",
    "        plt.figure(figsize=(6,6), dpi=500)\n",
    "        plt.show()\n",
    "    df = pd.DataFrame(data, columns = ['Algoritam', \"Accuracy\",'ROC AUC',\"Recall\",\"Precision\",\"F1 score\", \"Training time (sec)\",\"Test time (sec)\",'Epochs'])\n",
    "    return df"
   ]
  },
  {
   "cell_type": "markdown",
   "metadata": {
    "colab_type": "text",
    "id": "K1VMqkGvhc3-"
   },
   "source": [
    "## Učitavanje skupa podataka"
   ]
  },
  {
   "cell_type": "code",
   "execution_count": null,
   "metadata": {
    "colab": {},
    "colab_type": "code",
    "id": "M52QDmyzhh9s"
   },
   "outputs": [],
   "source": [
    "datagen = ImageDataGenerator(rescale = 1./255, shear_range=0.2, zoom_range=0.2, horizontal_flip=True)\n",
    "X_train = datagen.flow_from_directory('../datasets/cats_and_dogs/train_images', color_mode='rgb',target_size = (64, 64),batch_size = 64,class_mode = 'binary', seed=42)"
   ]
  },
  {
   "cell_type": "code",
   "execution_count": null,
   "metadata": {},
   "outputs": [],
   "source": [
    "datagen = ImageDataGenerator(rescale = 1./255)\n",
    "x_test = datagen.flow_from_directory('../datasets/cats_and_dogs/test_images', color_mode='rgb', shuffle=False, target_size = (64, 64),batch_size = 64,class_mode = 'binary', seed=42)\n"
   ]
  },
  {
   "cell_type": "markdown",
   "metadata": {},
   "source": [
    "## CNN - ADAM"
   ]
  },
  {
   "cell_type": "code",
   "execution_count": null,
   "metadata": {
    "scrolled": true
   },
   "outputs": [],
   "source": [
    "cnn_adam = tf.keras.Sequential()\n",
    "#tri konvolucijska sa po 32, 64 i 128 filtera i 3 sloja sažimanja\n",
    "cnn_adam.add(tf.keras.layers.Conv2D(32, (3, 3), activation='relu', input_shape=(64, 64, 3)))\n",
    "cnn_adam.add(tf.keras.layers.MaxPooling2D((2, 2)))\n",
    "cnn_adam.add(tf.keras.layers.Conv2D(64, (3, 3), activation='relu'))\n",
    "cnn_adam.add(tf.keras.layers.MaxPooling2D((2, 2)))\n",
    "cnn_adam.add(tf.keras.layers.Conv2D(128, (3, 3), activation='relu'))\n",
    "cnn_adam.add(tf.keras.layers.MaxPooling2D((2, 2)))\n",
    "#sloj za spljoštavanje mape\n",
    "cnn_adam.add(tf.keras.layers.Flatten())\n",
    "#dva skrivena sloja sa 64 neurona\n",
    "cnn_adam.add(tf.keras.layers.Dense(64, activation='relu'))\n",
    "cnn_adam.add(tf.keras.layers.Dense(64, activation='relu'))\n",
    "\n",
    "cnn_adam.add(tf.keras.layers.Dense(1, activation='sigmoid'))\n",
    "cnn_adam.compile(optimizer='adam',\n",
    "              loss='binary_crossentropy',\n",
    "              metrics=['accuracy'])"
   ]
  },
  {
   "cell_type": "code",
   "execution_count": null,
   "metadata": {},
   "outputs": [],
   "source": [
    "start = time.time()\n",
    "adam_history = cnn_adam.fit(x=X_train, epochs=20, validation_data = x_test,)\n",
    "adam_time = time.time()-start"
   ]
  },
  {
   "cell_type": "code",
   "execution_count": null,
   "metadata": {},
   "outputs": [],
   "source": [
    "metrike([cnn_adam], x_test, x_test.classes, [adam_time])"
   ]
  },
  {
   "cell_type": "code",
   "execution_count": null,
   "metadata": {},
   "outputs": [],
   "source": [
    "plt.plot(pd.DataFrame(adam_history.history[\"accuracy\"]))\n",
    "plt.plot(pd.DataFrame(adam_history.history[\"val_accuracy\"]))\n",
    "plt.figure(figsize=(6,6), dpi=500)\n",
    "plt.show()\n",
    "\n",
    "plt.plot(pd.DataFrame(adam_history.history[\"loss\"]))\n",
    "plt.plot(pd.DataFrame(adam_history.history[\"val_loss\"]))\n",
    "plt.figure(figsize=(6,6), dpi=500)\n",
    "plt.show()"
   ]
  },
  {
   "cell_type": "markdown",
   "metadata": {},
   "source": [
    "## CNN - ADAMAX"
   ]
  },
  {
   "cell_type": "code",
   "execution_count": null,
   "metadata": {},
   "outputs": [],
   "source": [
    "cnn_adamax = tf.keras.Sequential()\n",
    "cnn_adamax.add(tf.keras.layers.Conv2D(32, (3, 3), activation='relu', input_shape=(64, 64, 3)))\n",
    "cnn_adamax.add(tf.keras.layers.MaxPooling2D((2, 2)))\n",
    "cnn_adamax.add(tf.keras.layers.Conv2D(64, (3, 3), activation='relu'))\n",
    "cnn_adamax.add(tf.keras.layers.MaxPooling2D((2, 2)))\n",
    "cnn_adamax.add(tf.keras.layers.Conv2D(128, (3, 3), activation='relu'))\n",
    "cnn_adamax.add(tf.keras.layers.MaxPooling2D((2, 2)))\n",
    "cnn_adamax.add(tf.keras.layers.Flatten())\n",
    "cnn_adamax.add(tf.keras.layers.Dense(64, activation='relu'))\n",
    "cnn_adamax.add(tf.keras.layers.Dense(64, activation='relu'))\n",
    "cnn_adamax.add(tf.keras.layers.Dense(1, activation='sigmoid'))\n",
    "cnn_adamax.compile(optimizer='adamax',\n",
    "              loss='binary_crossentropy',\n",
    "              metrics=['accuracy'])"
   ]
  },
  {
   "cell_type": "code",
   "execution_count": null,
   "metadata": {},
   "outputs": [],
   "source": [
    "start = time.time()\n",
    "adamax_history = cnn_adamax.fit(x=X_train, epochs=25,validation_data = x_test,)\n",
    "adamax_time = time.time()-start"
   ]
  },
  {
   "cell_type": "code",
   "execution_count": null,
   "metadata": {},
   "outputs": [],
   "source": [
    "metrike([cnn_adamax], x_test, x_test.classes, [adamax_time])"
   ]
  },
  {
   "cell_type": "code",
   "execution_count": null,
   "metadata": {},
   "outputs": [],
   "source": [
    "plt.plot(pd.DataFrame(adamax_history.history[\"accuracy\"]))\n",
    "plt.plot(pd.DataFrame(adamax_history.history[\"val_accuracy\"]))\n",
    "plt.figure(figsize=(6,6), dpi=500)\n",
    "plt.show()\n",
    "\n",
    "plt.plot(pd.DataFrame(adamax_history.history[\"loss\"]))\n",
    "plt.plot(pd.DataFrame(adamax_history.history[\"val_loss\"]))\n",
    "plt.figure(figsize=(6,6), dpi=500)\n",
    "plt.show()"
   ]
  },
  {
   "cell_type": "markdown",
   "metadata": {},
   "source": [
    "## CNN - ADAGRAD"
   ]
  },
  {
   "cell_type": "code",
   "execution_count": null,
   "metadata": {},
   "outputs": [],
   "source": [
    "cnn_adagrad = tf.keras.Sequential()\n",
    "cnn_adagrad.add(tf.keras.layers.Conv2D(32, (3, 3), activation='relu', input_shape=(64, 64, 3)))\n",
    "cnn_adagrad.add(tf.keras.layers.MaxPooling2D((2, 2)))\n",
    "cnn_adagrad.add(tf.keras.layers.Conv2D(64, (3, 3), activation='relu'))\n",
    "cnn_adagrad.add(tf.keras.layers.MaxPooling2D((2, 2)))\n",
    "cnn_adagrad.add(tf.keras.layers.Conv2D(128, (3, 3), activation='relu'))\n",
    "cnn_adagrad.add(tf.keras.layers.MaxPooling2D((2, 2)))\n",
    "cnn_adagrad.add(tf.keras.layers.Flatten())\n",
    "cnn_adagrad.add(tf.keras.layers.Dense(64, activation='relu'))\n",
    "cnn_adagrad.add(tf.keras.layers.Dense(64, activation='relu'))\n",
    "cnn_adagrad.add(tf.keras.layers.Dense(1, activation='sigmoid'))\n",
    "cnn_adagrad.compile(optimizer='adagrad',\n",
    "              loss='binary_crossentropy',\n",
    "              metrics=['accuracy'])"
   ]
  },
  {
   "cell_type": "code",
   "execution_count": null,
   "metadata": {},
   "outputs": [],
   "source": [
    "start = time.time()\n",
    "adagrad_history = cnn_adagrad.fit(x=X_train, epochs=50,validation_data = x_test,)\n",
    "adagrad_time = time.time()-start"
   ]
  },
  {
   "cell_type": "code",
   "execution_count": null,
   "metadata": {},
   "outputs": [],
   "source": [
    "metrike([cnn_adagrad], x_test, x_test.classes, [adagrad_time])"
   ]
  },
  {
   "cell_type": "code",
   "execution_count": null,
   "metadata": {},
   "outputs": [],
   "source": [
    "plt.plot(pd.DataFrame(adagrad_history.history[\"accuracy\"]))\n",
    "plt.plot(pd.DataFrame(adagrad_history.history[\"val_accuracy\"]))\n",
    "plt.figure(figsize=(6,6), dpi=500)\n",
    "plt.show()\n",
    "\n",
    "plt.plot(pd.DataFrame(adagrad_history.history[\"loss\"]))\n",
    "plt.plot(pd.DataFrame(adagrad_history.history[\"val_loss\"]))\n",
    "plt.figure(figsize=(6,6), dpi=500)\n",
    "plt.show()"
   ]
  },
  {
   "cell_type": "markdown",
   "metadata": {},
   "source": [
    "## CNN - NADAM"
   ]
  },
  {
   "cell_type": "code",
   "execution_count": null,
   "metadata": {},
   "outputs": [],
   "source": [
    "cnn_nadam = tf.keras.Sequential()\n",
    "cnn_nadam.add(tf.keras.layers.Conv2D(32, (3, 3), activation='relu', input_shape=(64, 64, 3)))\n",
    "cnn_nadam.add(tf.keras.layers.MaxPooling2D((2, 2)))\n",
    "cnn_nadam.add(tf.keras.layers.Conv2D(64, (3, 3), activation='relu'))\n",
    "cnn_nadam.add(tf.keras.layers.MaxPooling2D((2, 2)))\n",
    "cnn_nadam.add(tf.keras.layers.Conv2D(128, (3, 3), activation='relu'))\n",
    "cnn_nadam.add(tf.keras.layers.MaxPooling2D((2, 2)))\n",
    "cnn_nadam.add(tf.keras.layers.Flatten())\n",
    "cnn_nadam.add(tf.keras.layers.Dense(64, activation='relu'))\n",
    "cnn_nadam.add(tf.keras.layers.Dense(64, activation='relu'))\n",
    "cnn_nadam.add(tf.keras.layers.Dense(1, activation='sigmoid'))\n",
    "cnn_nadam.compile(optimizer='nadam',\n",
    "              loss='binary_crossentropy',\n",
    "              metrics=['accuracy'])"
   ]
  },
  {
   "cell_type": "code",
   "execution_count": null,
   "metadata": {},
   "outputs": [],
   "source": [
    "start = time.time()\n",
    "nadam_history = cnn_nadam.fit(x=X_train, epochs=20,validation_data = x_test,)\n",
    "nadam_time = time.time()-start"
   ]
  },
  {
   "cell_type": "code",
   "execution_count": null,
   "metadata": {},
   "outputs": [],
   "source": [
    "metrike([cnn_nadam], x_test, x_test.classes, [nadam_time])"
   ]
  },
  {
   "cell_type": "code",
   "execution_count": null,
   "metadata": {},
   "outputs": [],
   "source": [
    "plt.plot(pd.DataFrame(nadam_history.history[\"accuracy\"]))\n",
    "plt.plot(pd.DataFrame(nadam_history.history[\"val_accuracy\"]))\n",
    "plt.figure(figsize=(6,6), dpi=500)\n",
    "plt.show()\n",
    "\n",
    "plt.plot(pd.DataFrame(nadam_history.history[\"loss\"]))\n",
    "plt.plot(pd.DataFrame(nadam_history.history[\"val_loss\"]))\n",
    "plt.figure(figsize=(6,6), dpi=500)\n",
    "plt.show()"
   ]
  },
  {
   "cell_type": "markdown",
   "metadata": {},
   "source": [
    "## CNN - SGD"
   ]
  },
  {
   "cell_type": "code",
   "execution_count": null,
   "metadata": {},
   "outputs": [],
   "source": [
    "cnn_sgd = tf.keras.Sequential()\n",
    "cnn_sgd.add(tf.keras.layers.Conv2D(32, (3, 3), activation='relu', input_shape=(64, 64, 3)))\n",
    "cnn_sgd.add(tf.keras.layers.MaxPooling2D((2, 2)))\n",
    "cnn_sgd.add(tf.keras.layers.Conv2D(64, (3, 3), activation='relu'))\n",
    "cnn_sgd.add(tf.keras.layers.MaxPooling2D((2, 2)))\n",
    "cnn_sgd.add(tf.keras.layers.Conv2D(128, (3, 3), activation='relu'))\n",
    "cnn_sgd.add(tf.keras.layers.MaxPooling2D((2, 2)))\n",
    "cnn_sgd.add(tf.keras.layers.Flatten())\n",
    "cnn_sgd.add(tf.keras.layers.Dense(64, activation='relu'))\n",
    "cnn_sgd.add(tf.keras.layers.Dense(64, activation='relu'))\n",
    "cnn_sgd.add(tf.keras.layers.Dense(1, activation='sigmoid'))\n",
    "cnn_sgd.compile(optimizer='sgd',\n",
    "              loss='binary_crossentropy',\n",
    "              metrics=['accuracy'])"
   ]
  },
  {
   "cell_type": "code",
   "execution_count": null,
   "metadata": {},
   "outputs": [],
   "source": [
    "start = time.time()\n",
    "sgd_history = cnn_sgd.fit(x=X_train, epochs=40,validation_data = x_test,)\n",
    "sgd_time = time.time()-start"
   ]
  },
  {
   "cell_type": "code",
   "execution_count": null,
   "metadata": {},
   "outputs": [],
   "source": [
    "metrike([cnn_sgd], x_test, x_test.classes, [sgd_time])"
   ]
  },
  {
   "cell_type": "code",
   "execution_count": null,
   "metadata": {},
   "outputs": [],
   "source": [
    "plt.plot(pd.DataFrame(sgd_history.history[\"accuracy\"]))\n",
    "plt.plot(pd.DataFrame(sgd_history.history[\"val_accuracy\"]))\n",
    "plt.figure(figsize=(6,6), dpi=500)\n",
    "plt.show()\n",
    "\n",
    "plt.plot(pd.DataFrame(sgd_history.history[\"loss\"]))\n",
    "plt.plot(pd.DataFrame(sgd_history.history[\"val_loss\"]))\n",
    "plt.figure(figsize=(6,6), dpi=500)\n",
    "plt.show()"
   ]
  },
  {
   "cell_type": "markdown",
   "metadata": {},
   "source": [
    "## CNN - RMSprop"
   ]
  },
  {
   "cell_type": "code",
   "execution_count": null,
   "metadata": {},
   "outputs": [],
   "source": [
    "cnn_rms = tf.keras.Sequential()\n",
    "cnn_rms.add(tf.keras.layers.Conv2D(32, (3, 3), activation='relu', input_shape=(64, 64, 3)))\n",
    "cnn_rms.add(tf.keras.layers.MaxPooling2D((2, 2)))\n",
    "cnn_rms.add(tf.keras.layers.Conv2D(64, (3, 3), activation='relu'))\n",
    "cnn_rms.add(tf.keras.layers.MaxPooling2D((2, 2)))\n",
    "cnn_rms.add(tf.keras.layers.Conv2D(128, (3, 3), activation='relu'))\n",
    "cnn_rms.add(tf.keras.layers.MaxPooling2D((2, 2)))\n",
    "cnn_rms.add(tf.keras.layers.Flatten())\n",
    "cnn_rms.add(tf.keras.layers.Dense(64, activation='relu'))\n",
    "cnn_rms.add(tf.keras.layers.Dense(64, activation='relu'))\n",
    "cnn_rms.add(tf.keras.layers.Dense(1, activation='sigmoid'))\n",
    "cnn_rms.compile(optimizer='rmsprop',\n",
    "              loss='binary_crossentropy',\n",
    "              metrics=['accuracy'])"
   ]
  },
  {
   "cell_type": "code",
   "execution_count": null,
   "metadata": {},
   "outputs": [],
   "source": [
    "start = time.time()\n",
    "rms_history = cnn_rms.fit(x=X_train, epochs=30,validation_data = x_test,)\n",
    "rms_time = time.time()-start"
   ]
  },
  {
   "cell_type": "code",
   "execution_count": null,
   "metadata": {},
   "outputs": [],
   "source": [
    "metrike([cnn_rms], x_test, x_test.classes, [rms_time])"
   ]
  },
  {
   "cell_type": "code",
   "execution_count": null,
   "metadata": {},
   "outputs": [],
   "source": [
    "plt.plot(pd.DataFrame(rms_history.history[\"accuracy\"]))\n",
    "plt.plot(pd.DataFrame(rms_history.history[\"val_accuracy\"]))\n",
    "plt.figure(figsize=(6,6), dpi=500)\n",
    "plt.show()\n",
    "\n",
    "plt.plot(pd.DataFrame(rms_history.history[\"loss\"]))\n",
    "plt.plot(pd.DataFrame(rms_history.history[\"val_loss\"]))\n",
    "plt.figure(figsize=(6,6), dpi=500)\n",
    "plt.show()"
   ]
  },
  {
   "cell_type": "code",
   "execution_count": null,
   "metadata": {},
   "outputs": [],
   "source": [
    "models = [cnn_adam,cnn_adamax,cnn_adagrad,cnn_nadam,cnn_sgd,cnn_rms]\n",
    "times = [adam_time,adamax_time,adagrad_time, nadam_time, sgd_time,rms_time]\n",
    "histories = [adam_history,adamax_history,adagrad_history,nadam_history,sgd_history,rms_history]\n",
    "metrike_table(models, x_test, x_test.classes, times, histories)"
   ]
  },
  {
   "cell_type": "code",
   "execution_count": null,
   "metadata": {},
   "outputs": [],
   "source": [
    "for model in models:\n",
    "    model.save(f'../saved_models/animal_classification/{type(model.optimizer).__name__}')"
   ]
  }
 ],
 "metadata": {
  "colab": {
   "authorship_tag": "ABX9TyO/71HmJztjHpR9Q3DXpRZQ",
   "collapsed_sections": [],
   "machine_shape": "hm",
   "name": "k_nearest_neighbors.ipynb",
   "provenance": [],
   "toc_visible": true
  },
  "interpreter": {
   "hash": "3d99c4308d8dc5f8428d85b97a5a8546e380c637fba7a2e47370ff9a62ec2985"
  },
  "kernelspec": {
   "display_name": "Python 3.9.4 64-bit",
   "language": "python",
   "name": "python3"
  },
  "language_info": {
   "codemirror_mode": {
    "name": "ipython",
    "version": 3
   },
   "file_extension": ".py",
   "mimetype": "text/x-python",
   "name": "python",
   "nbconvert_exporter": "python",
   "pygments_lexer": "ipython3",
   "version": "3.9.4"
  }
 },
 "nbformat": 4,
 "nbformat_minor": 1
}
