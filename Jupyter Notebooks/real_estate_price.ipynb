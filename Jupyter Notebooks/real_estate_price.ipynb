{
 "cells": [
  {
   "cell_type": "markdown",
   "metadata": {
    "colab_type": "text",
    "id": "0MRC0e0KhQ0S"
   },
   "source": [
    "#  Real estate price prediction"
   ]
  },
  {
   "cell_type": "markdown",
   "metadata": {
    "colab_type": "text",
    "id": "LWd1UlMnhT2s"
   },
   "source": [
    "## Učitavanje biblioteka"
   ]
  },
  {
   "cell_type": "code",
   "execution_count": null,
   "metadata": {
    "colab": {},
    "colab_type": "code",
    "id": "YvGPUQaHhXfL"
   },
   "outputs": [],
   "source": [
    "import numpy as np\n",
    "import matplotlib.pyplot as plt\n",
    "import pandas as pd\n",
    "import seaborn as sns\n",
    "from sklearn import metrics\n",
    "import tensorflow as tf\n",
    "import math\n",
    "import time"
   ]
  },
  {
   "cell_type": "code",
   "execution_count": null,
   "metadata": {},
   "outputs": [],
   "source": [
    "def acc_loss_plot(histories, model, ind=0):\n",
    "        plt.plot(pd.DataFrame(histories[ind].history[\"mean_squared_error\"]))\n",
    "        plt.plot(pd.DataFrame(histories[ind].history[\"val_mean_squared_error\"]))\n",
    "        plt.xlabel('Epochs')\n",
    "        plt.ylabel('MSE')\n",
    "        plt.title(f'{type(model.optimizer).__name__} MSE')\n",
    "        plt.figure(figsize=(6,6), dpi=500)\n",
    "        plt.show()\n",
    "\n",
    "        plt.plot(pd.DataFrame(histories[ind].history[\"loss\"]))\n",
    "        plt.plot(pd.DataFrame(histories[ind].history[\"val_loss\"]))\n",
    "        plt.xlabel('Epochs')\n",
    "        plt.ylabel('Loss')\n",
    "        plt.title(f'{type(model.optimizer).__name__} loss')\n",
    "        plt.figure(figsize=(6,6), dpi=500)\n",
    "        plt.show()\n",
    "#funkcija za računanje metrika\n",
    "def regression_metrics(testData,y_test, sY, model,tr_time):\n",
    "    y_pred = model.predict(testData)\n",
    "    print(\"----------------------------------------------\")\n",
    "    print(F\"Algoritam: {type(model.optimizer).__name__}\")\n",
    "    print(f\"R2 score:{metrics.r2_score(sY.inverse_transform(y_test),sY.inverse_transform(y_pred))}\")\n",
    "    print(f\"Mean Absolute Error:{metrics.mean_absolute_error(sY.inverse_transform(y_test),sY.inverse_transform(y_pred))}\")\n",
    "    print(f\"Mean Squared Error:{metrics.mean_squared_error(sY.inverse_transform(y_test),sY.inverse_transform(y_pred))}\")\n",
    "    print(f\"Root Mean Squared Error:{math.sqrt(metrics.mean_squared_error(sY.inverse_transform(y_test),sY.inverse_transform(y_pred)))}\")\n",
    "    print(f\"Training time (sec): {tr_time}\" )\n",
    "    print(\"***********************************************\")\n",
    "def metrics_table(modeli, testData, y_test,sY, tr_time, histories):\n",
    "    data = []\n",
    "    for ind, model in enumerate(modeli):\n",
    "        start = time.time()\n",
    "        y_pred = model.predict(testData)\n",
    "        test_time = time.time()-start\n",
    "        data.append([\n",
    "            type(model.optimizer).__name__,\n",
    "            metrics.r2_score(sY.inverse_transform(y_test),sY.inverse_transform(y_pred)),\n",
    "            metrics.mean_absolute_error(sY.inverse_transform(y_test),sY.inverse_transform(y_pred)),\n",
    "            metrics.mean_squared_error(sY.inverse_transform(y_test),sY.inverse_transform(y_pred)),\n",
    "            math.sqrt(metrics.mean_squared_error(sY.inverse_transform(y_test),sY.inverse_transform(y_pred))),\n",
    "            tr_time[ind],\n",
    "            test_time,\n",
    "            len(histories[ind].history['loss'])\n",
    "            ])\n",
    "        acc_loss_plot(histories, model, ind)\n",
    "    df = pd.DataFrame(data, columns = ['Algoritam', \"R2 score\",'Mean Absolute Error',\"Mean Squared Error\",\"Root Mean Squared Error\",\"Training time (sec)\",\"Test time (sec)\",'Epochs'])\n",
    "    return df"
   ]
  },
  {
   "cell_type": "markdown",
   "metadata": {
    "colab_type": "text",
    "id": "K1VMqkGvhc3-"
   },
   "source": [
    "## Učitavanje skupa podataka"
   ]
  },
  {
   "cell_type": "code",
   "execution_count": null,
   "metadata": {
    "colab": {},
    "colab_type": "code",
    "id": "M52QDmyzhh9s"
   },
   "outputs": [],
   "source": [
    "dataset = pd.read_csv('../datasets/real_estate_dataset.csv')\n",
    "dataset.head()"
   ]
  },
  {
   "cell_type": "markdown",
   "metadata": {},
   "source": [
    "## Analiza skupa podataka"
   ]
  },
  {
   "cell_type": "code",
   "execution_count": null,
   "metadata": {
    "scrolled": true
   },
   "outputs": [],
   "source": [
    "dataset.dtypes"
   ]
  },
  {
   "cell_type": "code",
   "execution_count": null,
   "metadata": {
    "scrolled": true
   },
   "outputs": [],
   "source": [
    "dataset.describe()"
   ]
  },
  {
   "cell_type": "code",
   "execution_count": null,
   "metadata": {},
   "outputs": [],
   "source": [
    "pd.DataFrame(data= dataset['MEDV'].describe().to_numpy().reshape(8,1).T, columns=['count','mean','std','min','25%','50%','75%','max'])"
   ]
  },
  {
   "cell_type": "code",
   "execution_count": null,
   "metadata": {},
   "outputs": [],
   "source": [
    "korelacijska_matrica = dataset.corr()\n",
    "plt.subplots(figsize=(10,10))\n",
    "sns.heatmap(korelacijska_matrica, vmax=0.9, square=True)"
   ]
  },
  {
   "cell_type": "code",
   "execution_count": null,
   "metadata": {},
   "outputs": [],
   "source": [
    "print(korelacijska_matrica['MEDV'].drop(['MEDV']).sort_values())"
   ]
  },
  {
   "cell_type": "markdown",
   "metadata": {},
   "source": [
    "## Čišćenje"
   ]
  },
  {
   "cell_type": "code",
   "execution_count": null,
   "metadata": {},
   "outputs": [],
   "source": [
    "#5 null vrijednosti za RM\n",
    "dataset.isna().sum()"
   ]
  },
  {
   "cell_type": "code",
   "execution_count": null,
   "metadata": {},
   "outputs": [],
   "source": [
    "dataset.dtypes"
   ]
  },
  {
   "cell_type": "code",
   "execution_count": null,
   "metadata": {},
   "outputs": [],
   "source": [
    "from sklearn.impute import SimpleImputer\n",
    "imputer = SimpleImputer(missing_values=np.nan, strategy='mean')\n",
    "imputer.fit(dataset[['RM']])\n",
    "dataset[['RM']] = imputer.transform(dataset[['RM']])"
   ]
  },
  {
   "cell_type": "code",
   "execution_count": null,
   "metadata": {},
   "outputs": [],
   "source": [
    "dataset.isna().sum()"
   ]
  },
  {
   "cell_type": "code",
   "execution_count": null,
   "metadata": {},
   "outputs": [],
   "source": [
    "dataset.head()"
   ]
  },
  {
   "cell_type": "code",
   "execution_count": null,
   "metadata": {},
   "outputs": [],
   "source": [
    "X=dataset.drop(['MEDV'], axis=1)\n",
    "Y=dataset.iloc[:,-1].values"
   ]
  },
  {
   "cell_type": "code",
   "execution_count": null,
   "metadata": {},
   "outputs": [],
   "source": [
    "X.head()"
   ]
  },
  {
   "cell_type": "code",
   "execution_count": null,
   "metadata": {},
   "outputs": [],
   "source": [
    "Y = Y.reshape(len(Y),1)"
   ]
  },
  {
   "cell_type": "markdown",
   "metadata": {
    "colab_type": "text",
    "id": "YvxIPVyMhmKp"
   },
   "source": [
    "## Podjela na trening i test skupove"
   ]
  },
  {
   "cell_type": "code",
   "execution_count": null,
   "metadata": {
    "colab": {},
    "colab_type": "code",
    "id": "AVzJWAXIhxoC"
   },
   "outputs": [],
   "source": [
    "from sklearn.model_selection import train_test_split\n",
    "X_train, X_test, y_train, y_test = train_test_split(X, Y, test_size = 0.25, random_state=100)"
   ]
  },
  {
   "cell_type": "markdown",
   "metadata": {
    "colab_type": "text",
    "id": "kW3c7UYih0hT"
   },
   "source": [
    "## Standardizacija"
   ]
  },
  {
   "cell_type": "code",
   "execution_count": null,
   "metadata": {
    "colab": {},
    "colab_type": "code",
    "id": "9fQlDPKCh8sc"
   },
   "outputs": [],
   "source": [
    "from sklearn.preprocessing import StandardScaler\n",
    "scX = StandardScaler()\n",
    "scY = StandardScaler()\n",
    "X_train = scX.fit_transform(X_train)\n",
    "X_test = scX.transform(X_test)\n",
    "y_train = scY.fit_transform(y_train)\n",
    "y_test = scY.transform(y_test)"
   ]
  },
  {
   "cell_type": "code",
   "execution_count": null,
   "metadata": {},
   "outputs": [],
   "source": [
    "y_train = y_train.flatten()\n",
    "y_test = y_test.flatten()"
   ]
  },
  {
   "cell_type": "markdown",
   "metadata": {},
   "source": [
    "## ANN - ADAM"
   ]
  },
  {
   "cell_type": "code",
   "execution_count": null,
   "metadata": {},
   "outputs": [],
   "source": [
    "ann_adam = tf.keras.models.Sequential()\n",
    "#2 skirvena sloja sa 64 neurona\n",
    "ann_adam.add(tf.keras.layers.Dense(units=64, activation='relu'))\n",
    "ann_adam.add(tf.keras.layers.Dense(units=64, activation='relu'))\n",
    "# Dodavanje izlaznog sloja\n",
    "ann_adam.add(tf.keras.layers.Dense(units=1, activation='linear'))\n",
    "# kompajliranje mreže\n",
    "ann_adam.compile(optimizer = 'adam', loss = 'mean_squared_error', metrics = ['mean_squared_error'])"
   ]
  },
  {
   "cell_type": "markdown",
   "metadata": {},
   "source": [
    "print(f\"R2 score:{metrics.r2_score(y_test,grid_result.predict(X_test))}\")"
   ]
  },
  {
   "cell_type": "code",
   "execution_count": null,
   "metadata": {
    "scrolled": false
   },
   "outputs": [],
   "source": [
    "start = time.time()\n",
    "adam_history = ann_adam.fit(X_train, y_train, batch_size = 32, epochs = 45, validation_data=(X_test,y_test))\n",
    "adam_time = time.time()-start"
   ]
  },
  {
   "cell_type": "code",
   "execution_count": null,
   "metadata": {},
   "outputs": [],
   "source": [
    "regression_metrics(X_test,y_test, scY, ann_adam,adam_time)"
   ]
  },
  {
   "cell_type": "code",
   "execution_count": null,
   "metadata": {},
   "outputs": [],
   "source": [
    "acc_loss_plot([adam_history], ann_adam)"
   ]
  },
  {
   "cell_type": "markdown",
   "metadata": {},
   "source": [
    "## ANN - ADAMAX"
   ]
  },
  {
   "cell_type": "code",
   "execution_count": null,
   "metadata": {},
   "outputs": [],
   "source": [
    "\n",
    "ann_adamax = tf.keras.models.Sequential()\n",
    "ann_adamax.add(tf.keras.layers.Dense(units=64, activation='relu'))\n",
    "ann_adamax.add(tf.keras.layers.Dense(units=64, activation='relu'))\n",
    "ann_adamax.add(tf.keras.layers.Dense(units=1, activation='linear'))\n",
    "ann_adamax.compile(optimizer = 'adamax', loss = 'mean_squared_error', metrics = ['mean_squared_error'])"
   ]
  },
  {
   "cell_type": "code",
   "execution_count": null,
   "metadata": {},
   "outputs": [],
   "source": [
    "start = time.time()\n",
    "adamax_history = ann_adamax.fit(X_train, y_train, batch_size = 32, epochs = 120, validation_data=(X_test,y_test))\n",
    "adamax_time = time.time()-start"
   ]
  },
  {
   "cell_type": "code",
   "execution_count": null,
   "metadata": {},
   "outputs": [],
   "source": [
    "regression_metrics(X_test,y_test,scY,ann_adamax,adamax_time)"
   ]
  },
  {
   "cell_type": "code",
   "execution_count": null,
   "metadata": {},
   "outputs": [],
   "source": [
    "acc_loss_plot([adamax_history], ann_adamax)"
   ]
  },
  {
   "cell_type": "markdown",
   "metadata": {},
   "source": [
    "## ANN - ADAGRAD"
   ]
  },
  {
   "cell_type": "code",
   "execution_count": null,
   "metadata": {},
   "outputs": [],
   "source": [
    "\n",
    "ann_adagrad = tf.keras.models.Sequential()\n",
    "ann_adagrad.add(tf.keras.layers.Dense(units=64, activation='relu'))\n",
    "ann_adagrad.add(tf.keras.layers.Dense(units=64, activation='relu'))\n",
    "ann_adagrad.add(tf.keras.layers.Dense(units=1, activation='linear'))\n",
    "ann_adagrad.compile(optimizer = 'adagrad', loss = 'mean_squared_error', metrics = ['mean_squared_error'])"
   ]
  },
  {
   "cell_type": "code",
   "execution_count": null,
   "metadata": {},
   "outputs": [],
   "source": [
    "start = time.time()\n",
    "adagrad_history = ann_adagrad.fit(X_train, y_train, batch_size = 32, epochs = 3000, validation_data=(X_test,y_test))\n",
    "adagrad_time = time.time()-start"
   ]
  },
  {
   "cell_type": "code",
   "execution_count": null,
   "metadata": {},
   "outputs": [],
   "source": [
    "regression_metrics(X_test,y_test,scY, ann_adagrad,adagrad_time)"
   ]
  },
  {
   "cell_type": "code",
   "execution_count": null,
   "metadata": {},
   "outputs": [],
   "source": [
    "acc_loss_plot([adagrad_history], ann_adagrad)"
   ]
  },
  {
   "cell_type": "markdown",
   "metadata": {},
   "source": [
    "## ANN - NADAM"
   ]
  },
  {
   "cell_type": "code",
   "execution_count": null,
   "metadata": {},
   "outputs": [],
   "source": [
    "\n",
    "ann_nadam = tf.keras.models.Sequential()\n",
    "ann_nadam.add(tf.keras.layers.Dense(units=64, activation='relu'))\n",
    "ann_nadam.add(tf.keras.layers.Dense(units=64, activation='relu'))\n",
    "ann_nadam.add(tf.keras.layers.Dense(units=1, activation='linear'))\n",
    "ann_nadam.compile(optimizer = 'nadam', loss = 'mean_squared_error', metrics = ['mean_squared_error'])"
   ]
  },
  {
   "cell_type": "code",
   "execution_count": null,
   "metadata": {},
   "outputs": [],
   "source": [
    "start = time.time()\n",
    "nadam_history = ann_nadam.fit(X_train, y_train, batch_size = 32, epochs = 45, validation_data=(X_test,y_test))\n",
    "nadam_time = time.time()-start"
   ]
  },
  {
   "cell_type": "code",
   "execution_count": null,
   "metadata": {},
   "outputs": [],
   "source": [
    "regression_metrics(X_test,y_test,scY, ann_nadam,nadam_time)"
   ]
  },
  {
   "cell_type": "code",
   "execution_count": null,
   "metadata": {},
   "outputs": [],
   "source": [
    "acc_loss_plot([nadam_history], ann_nadam)"
   ]
  },
  {
   "cell_type": "markdown",
   "metadata": {},
   "source": [
    "## ANN - SGD"
   ]
  },
  {
   "cell_type": "code",
   "execution_count": null,
   "metadata": {},
   "outputs": [],
   "source": [
    "ann_sgd = tf.keras.models.Sequential()\n",
    "ann_sgd.add(tf.keras.layers.Dense(units=64, activation='relu'))\n",
    "ann_sgd.add(tf.keras.layers.Dense(units=64, activation='relu'))\n",
    "ann_sgd.add(tf.keras.layers.Dense(units=1, activation='linear'))\n",
    "ann_sgd.compile(optimizer = 'SGD', loss = 'mean_squared_error', metrics = ['mean_squared_error'])"
   ]
  },
  {
   "cell_type": "code",
   "execution_count": null,
   "metadata": {},
   "outputs": [],
   "source": [
    "start = time.time()\n",
    "sgd_history = ann_sgd.fit(X_train, y_train, batch_size = 32, epochs = 200, validation_data=(X_test,y_test))\n",
    "sgd_time = time.time()-start"
   ]
  },
  {
   "cell_type": "code",
   "execution_count": null,
   "metadata": {},
   "outputs": [],
   "source": [
    "regression_metrics(X_test,y_test,scY,ann_sgd,sgd_time)"
   ]
  },
  {
   "cell_type": "code",
   "execution_count": null,
   "metadata": {},
   "outputs": [],
   "source": [
    "acc_loss_plot([sgd_history], ann_sgd)"
   ]
  },
  {
   "cell_type": "markdown",
   "metadata": {},
   "source": [
    "## ANN - RMSprop"
   ]
  },
  {
   "cell_type": "code",
   "execution_count": null,
   "metadata": {},
   "outputs": [],
   "source": [
    "ann_rms = tf.keras.models.Sequential()\n",
    "ann_rms.add(tf.keras.layers.Dense(units=64, activation='relu'))\n",
    "ann_rms.add(tf.keras.layers.Dense(units=64, activation='relu'))\n",
    "ann_rms.add(tf.keras.layers.Dense(units=1, activation='linear'))\n",
    "ann_rms.compile(optimizer = 'rmsprop', loss = 'mean_squared_error', metrics = ['mean_squared_error'])"
   ]
  },
  {
   "cell_type": "code",
   "execution_count": null,
   "metadata": {},
   "outputs": [],
   "source": [
    "start = time.time()\n",
    "rms_history = ann_rms.fit(X_train, y_train, batch_size = 32, epochs = 60, validation_data=(X_test,y_test))\n",
    "rms_time = time.time()-start"
   ]
  },
  {
   "cell_type": "code",
   "execution_count": null,
   "metadata": {},
   "outputs": [],
   "source": [
    "regression_metrics(X_test,y_test,scY,ann_rms,rms_time)"
   ]
  },
  {
   "cell_type": "code",
   "execution_count": null,
   "metadata": {},
   "outputs": [],
   "source": [
    "acc_loss_plot([rms_history], ann_rms)"
   ]
  },
  {
   "cell_type": "code",
   "execution_count": null,
   "metadata": {},
   "outputs": [],
   "source": [
    "models = [ann_adam,ann_adamax,ann_adagrad,ann_nadam,ann_sgd,ann_rms]\n",
    "times = [adam_time,adamax_time,adagrad_time, nadam_time, sgd_time,rms_time]\n",
    "histories = [adam_history,adamax_history,adagrad_history,nadam_history,sgd_history,rms_history]\n",
    "metrics_table(models,X_test,y_test, scY, times, histories)"
   ]
  },
  {
   "cell_type": "code",
   "execution_count": null,
   "metadata": {},
   "outputs": [],
   "source": [
    "for model in models:\n",
    "    model.save(f'../saved_models/real_estate_price/{type(model.optimizer).__name__}')"
   ]
  }
 ],
 "metadata": {
  "colab": {
   "authorship_tag": "ABX9TyO/71HmJztjHpR9Q3DXpRZQ",
   "collapsed_sections": [],
   "machine_shape": "hm",
   "name": "k_nearest_neighbors.ipynb",
   "provenance": [],
   "toc_visible": true
  },
  "interpreter": {
   "hash": "3d99c4308d8dc5f8428d85b97a5a8546e380c637fba7a2e47370ff9a62ec2985"
  },
  "kernelspec": {
   "display_name": "Python 3.9.4 64-bit",
   "language": "python",
   "name": "python3"
  },
  "language_info": {
   "codemirror_mode": {
    "name": "ipython",
    "version": 3
   },
   "file_extension": ".py",
   "mimetype": "text/x-python",
   "name": "python",
   "nbconvert_exporter": "python",
   "pygments_lexer": "ipython3",
   "version": "3.9.4"
  }
 },
 "nbformat": 4,
 "nbformat_minor": 1
}
